{
 "cells": [
  {
   "cell_type": "code",
   "execution_count": 8,
   "id": "1e64dfae",
   "metadata": {},
   "outputs": [],
   "source": [
    "import pandas as pd\n",
    "import numpy as np\n",
    "import requests"
   ]
  },
  {
   "cell_type": "markdown",
   "id": "4f2354a7",
   "metadata": {},
   "source": [
    "## Data Gathering"
   ]
  },
  {
   "cell_type": "code",
   "execution_count": 9,
   "id": "d6d34d74",
   "metadata": {},
   "outputs": [],
   "source": [
    "# url of our data\n",
    "basic_url = \"https://datasets.imdbws.com/title.basics.tsv.gz\"\n",
    "title_aka_url = \"https://datasets.imdbws.com/title.akas.tsv.gz\"\n",
    "title_rating_url = \"https://datasets.imdbws.com/title.ratings.tsv.gz\""
   ]
  },
  {
   "cell_type": "code",
   "execution_count": 10,
   "id": "5e6c7be1",
   "metadata": {},
   "outputs": [],
   "source": [
    "# create a list for url and names\n",
    "url_list = [basic_url, title_aka_url, title_rating_url]\n",
    "url_names = ['title.basics.tsv.gz', 'title.akas.tsv.gz', 'title.ratings.tsv.gz']"
   ]
  },
  {
   "cell_type": "code",
   "execution_count": 11,
   "id": "79104492",
   "metadata": {},
   "outputs": [],
   "source": [
    "# use request to download data Programmatically from the url\n",
    "responses = []\n",
    "for url in url_list:\n",
    "    response = requests.get(url)\n",
    "    responses.append(response.content)\n",
    "n = 0\n",
    "for names in url_names:\n",
    "    with open(names, mode='wb') as file: \n",
    "        file.write(responses[n])\n",
    "    n += 1"
   ]
  },
  {
   "cell_type": "code",
   "execution_count": 12,
   "id": "67919232",
   "metadata": {},
   "outputs": [],
   "source": [
    "title_basics = pd.read_csv('title.basics.tsv.gz', sep='\\t', low_memory=False)"
   ]
  },
  {
   "cell_type": "code",
   "execution_count": 13,
   "id": "f960ca2a",
   "metadata": {},
   "outputs": [
    {
     "data": {
      "text/html": [
       "<div>\n",
       "<style scoped>\n",
       "    .dataframe tbody tr th:only-of-type {\n",
       "        vertical-align: middle;\n",
       "    }\n",
       "\n",
       "    .dataframe tbody tr th {\n",
       "        vertical-align: top;\n",
       "    }\n",
       "\n",
       "    .dataframe thead th {\n",
       "        text-align: right;\n",
       "    }\n",
       "</style>\n",
       "<table border=\"1\" class=\"dataframe\">\n",
       "  <thead>\n",
       "    <tr style=\"text-align: right;\">\n",
       "      <th></th>\n",
       "      <th>tconst</th>\n",
       "      <th>titleType</th>\n",
       "      <th>primaryTitle</th>\n",
       "      <th>originalTitle</th>\n",
       "      <th>isAdult</th>\n",
       "      <th>startYear</th>\n",
       "      <th>endYear</th>\n",
       "      <th>runtimeMinutes</th>\n",
       "      <th>genres</th>\n",
       "    </tr>\n",
       "  </thead>\n",
       "  <tbody>\n",
       "    <tr>\n",
       "      <th>0</th>\n",
       "      <td>tt0000001</td>\n",
       "      <td>short</td>\n",
       "      <td>Carmencita</td>\n",
       "      <td>Carmencita</td>\n",
       "      <td>0</td>\n",
       "      <td>1894</td>\n",
       "      <td>\\N</td>\n",
       "      <td>1</td>\n",
       "      <td>Documentary,Short</td>\n",
       "    </tr>\n",
       "    <tr>\n",
       "      <th>1</th>\n",
       "      <td>tt0000002</td>\n",
       "      <td>short</td>\n",
       "      <td>Le clown et ses chiens</td>\n",
       "      <td>Le clown et ses chiens</td>\n",
       "      <td>0</td>\n",
       "      <td>1892</td>\n",
       "      <td>\\N</td>\n",
       "      <td>5</td>\n",
       "      <td>Animation,Short</td>\n",
       "    </tr>\n",
       "    <tr>\n",
       "      <th>2</th>\n",
       "      <td>tt0000003</td>\n",
       "      <td>short</td>\n",
       "      <td>Pauvre Pierrot</td>\n",
       "      <td>Pauvre Pierrot</td>\n",
       "      <td>0</td>\n",
       "      <td>1892</td>\n",
       "      <td>\\N</td>\n",
       "      <td>4</td>\n",
       "      <td>Animation,Comedy,Romance</td>\n",
       "    </tr>\n",
       "    <tr>\n",
       "      <th>3</th>\n",
       "      <td>tt0000004</td>\n",
       "      <td>short</td>\n",
       "      <td>Un bon bock</td>\n",
       "      <td>Un bon bock</td>\n",
       "      <td>0</td>\n",
       "      <td>1892</td>\n",
       "      <td>\\N</td>\n",
       "      <td>12</td>\n",
       "      <td>Animation,Short</td>\n",
       "    </tr>\n",
       "    <tr>\n",
       "      <th>4</th>\n",
       "      <td>tt0000005</td>\n",
       "      <td>short</td>\n",
       "      <td>Blacksmith Scene</td>\n",
       "      <td>Blacksmith Scene</td>\n",
       "      <td>0</td>\n",
       "      <td>1893</td>\n",
       "      <td>\\N</td>\n",
       "      <td>1</td>\n",
       "      <td>Comedy,Short</td>\n",
       "    </tr>\n",
       "  </tbody>\n",
       "</table>\n",
       "</div>"
      ],
      "text/plain": [
       "      tconst titleType            primaryTitle           originalTitle  \\\n",
       "0  tt0000001     short              Carmencita              Carmencita   \n",
       "1  tt0000002     short  Le clown et ses chiens  Le clown et ses chiens   \n",
       "2  tt0000003     short          Pauvre Pierrot          Pauvre Pierrot   \n",
       "3  tt0000004     short             Un bon bock             Un bon bock   \n",
       "4  tt0000005     short        Blacksmith Scene        Blacksmith Scene   \n",
       "\n",
       "  isAdult startYear endYear runtimeMinutes                    genres  \n",
       "0       0      1894      \\N              1         Documentary,Short  \n",
       "1       0      1892      \\N              5           Animation,Short  \n",
       "2       0      1892      \\N              4  Animation,Comedy,Romance  \n",
       "3       0      1892      \\N             12           Animation,Short  \n",
       "4       0      1893      \\N              1              Comedy,Short  "
      ]
     },
     "execution_count": 13,
     "metadata": {},
     "output_type": "execute_result"
    }
   ],
   "source": [
    "title_basics.head()"
   ]
  },
  {
   "cell_type": "code",
   "execution_count": 14,
   "id": "b7812e4c",
   "metadata": {},
   "outputs": [],
   "source": [
    "title_aka = pd.read_csv('title.akas.tsv.gz', sep='\\t', low_memory = False)"
   ]
  },
  {
   "cell_type": "code",
   "execution_count": 15,
   "id": "962f4a58",
   "metadata": {},
   "outputs": [
    {
     "data": {
      "text/html": [
       "<div>\n",
       "<style scoped>\n",
       "    .dataframe tbody tr th:only-of-type {\n",
       "        vertical-align: middle;\n",
       "    }\n",
       "\n",
       "    .dataframe tbody tr th {\n",
       "        vertical-align: top;\n",
       "    }\n",
       "\n",
       "    .dataframe thead th {\n",
       "        text-align: right;\n",
       "    }\n",
       "</style>\n",
       "<table border=\"1\" class=\"dataframe\">\n",
       "  <thead>\n",
       "    <tr style=\"text-align: right;\">\n",
       "      <th></th>\n",
       "      <th>titleId</th>\n",
       "      <th>ordering</th>\n",
       "      <th>title</th>\n",
       "      <th>region</th>\n",
       "      <th>language</th>\n",
       "      <th>types</th>\n",
       "      <th>attributes</th>\n",
       "      <th>isOriginalTitle</th>\n",
       "    </tr>\n",
       "  </thead>\n",
       "  <tbody>\n",
       "    <tr>\n",
       "      <th>0</th>\n",
       "      <td>tt0000001</td>\n",
       "      <td>1</td>\n",
       "      <td>Карменсіта</td>\n",
       "      <td>UA</td>\n",
       "      <td>\\N</td>\n",
       "      <td>imdbDisplay</td>\n",
       "      <td>\\N</td>\n",
       "      <td>0</td>\n",
       "    </tr>\n",
       "    <tr>\n",
       "      <th>1</th>\n",
       "      <td>tt0000001</td>\n",
       "      <td>2</td>\n",
       "      <td>Carmencita</td>\n",
       "      <td>DE</td>\n",
       "      <td>\\N</td>\n",
       "      <td>\\N</td>\n",
       "      <td>literal title</td>\n",
       "      <td>0</td>\n",
       "    </tr>\n",
       "    <tr>\n",
       "      <th>2</th>\n",
       "      <td>tt0000001</td>\n",
       "      <td>3</td>\n",
       "      <td>Carmencita - spanyol tánc</td>\n",
       "      <td>HU</td>\n",
       "      <td>\\N</td>\n",
       "      <td>imdbDisplay</td>\n",
       "      <td>\\N</td>\n",
       "      <td>0</td>\n",
       "    </tr>\n",
       "    <tr>\n",
       "      <th>3</th>\n",
       "      <td>tt0000001</td>\n",
       "      <td>4</td>\n",
       "      <td>Καρμενσίτα</td>\n",
       "      <td>GR</td>\n",
       "      <td>\\N</td>\n",
       "      <td>imdbDisplay</td>\n",
       "      <td>\\N</td>\n",
       "      <td>0</td>\n",
       "    </tr>\n",
       "    <tr>\n",
       "      <th>4</th>\n",
       "      <td>tt0000001</td>\n",
       "      <td>5</td>\n",
       "      <td>Карменсита</td>\n",
       "      <td>RU</td>\n",
       "      <td>\\N</td>\n",
       "      <td>imdbDisplay</td>\n",
       "      <td>\\N</td>\n",
       "      <td>0</td>\n",
       "    </tr>\n",
       "  </tbody>\n",
       "</table>\n",
       "</div>"
      ],
      "text/plain": [
       "     titleId  ordering                      title region language  \\\n",
       "0  tt0000001         1                 Карменсіта     UA       \\N   \n",
       "1  tt0000001         2                 Carmencita     DE       \\N   \n",
       "2  tt0000001         3  Carmencita - spanyol tánc     HU       \\N   \n",
       "3  tt0000001         4                 Καρμενσίτα     GR       \\N   \n",
       "4  tt0000001         5                 Карменсита     RU       \\N   \n",
       "\n",
       "         types     attributes isOriginalTitle  \n",
       "0  imdbDisplay             \\N               0  \n",
       "1           \\N  literal title               0  \n",
       "2  imdbDisplay             \\N               0  \n",
       "3  imdbDisplay             \\N               0  \n",
       "4  imdbDisplay             \\N               0  "
      ]
     },
     "execution_count": 15,
     "metadata": {},
     "output_type": "execute_result"
    }
   ],
   "source": [
    "title_aka.head()"
   ]
  },
  {
   "cell_type": "code",
   "execution_count": 16,
   "id": "bd8f46fd",
   "metadata": {},
   "outputs": [
    {
     "name": "stdout",
     "output_type": "stream",
     "text": [
      "<class 'pandas.core.frame.DataFrame'>\n",
      "RangeIndex: 35843078 entries, 0 to 35843077\n",
      "Data columns (total 8 columns):\n",
      " #   Column           Dtype \n",
      "---  ------           ----- \n",
      " 0   titleId          object\n",
      " 1   ordering         int64 \n",
      " 2   title            object\n",
      " 3   region           object\n",
      " 4   language         object\n",
      " 5   types            object\n",
      " 6   attributes       object\n",
      " 7   isOriginalTitle  object\n",
      "dtypes: int64(1), object(7)\n",
      "memory usage: 2.1+ GB\n"
     ]
    }
   ],
   "source": [
    "title_aka.info()"
   ]
  },
  {
   "cell_type": "code",
   "execution_count": 17,
   "id": "919ffccb",
   "metadata": {},
   "outputs": [],
   "source": [
    "title_rating = pd.read_csv('title.ratings.tsv.gz', sep='\\t', low_memory=False)"
   ]
  },
  {
   "cell_type": "code",
   "execution_count": 18,
   "id": "bb03fef5",
   "metadata": {},
   "outputs": [
    {
     "data": {
      "text/html": [
       "<div>\n",
       "<style scoped>\n",
       "    .dataframe tbody tr th:only-of-type {\n",
       "        vertical-align: middle;\n",
       "    }\n",
       "\n",
       "    .dataframe tbody tr th {\n",
       "        vertical-align: top;\n",
       "    }\n",
       "\n",
       "    .dataframe thead th {\n",
       "        text-align: right;\n",
       "    }\n",
       "</style>\n",
       "<table border=\"1\" class=\"dataframe\">\n",
       "  <thead>\n",
       "    <tr style=\"text-align: right;\">\n",
       "      <th></th>\n",
       "      <th>tconst</th>\n",
       "      <th>averageRating</th>\n",
       "      <th>numVotes</th>\n",
       "    </tr>\n",
       "  </thead>\n",
       "  <tbody>\n",
       "    <tr>\n",
       "      <th>0</th>\n",
       "      <td>tt0000001</td>\n",
       "      <td>5.7</td>\n",
       "      <td>1969</td>\n",
       "    </tr>\n",
       "    <tr>\n",
       "      <th>1</th>\n",
       "      <td>tt0000002</td>\n",
       "      <td>5.8</td>\n",
       "      <td>263</td>\n",
       "    </tr>\n",
       "    <tr>\n",
       "      <th>2</th>\n",
       "      <td>tt0000003</td>\n",
       "      <td>6.5</td>\n",
       "      <td>1815</td>\n",
       "    </tr>\n",
       "    <tr>\n",
       "      <th>3</th>\n",
       "      <td>tt0000004</td>\n",
       "      <td>5.6</td>\n",
       "      <td>178</td>\n",
       "    </tr>\n",
       "    <tr>\n",
       "      <th>4</th>\n",
       "      <td>tt0000005</td>\n",
       "      <td>6.2</td>\n",
       "      <td>2612</td>\n",
       "    </tr>\n",
       "  </tbody>\n",
       "</table>\n",
       "</div>"
      ],
      "text/plain": [
       "      tconst  averageRating  numVotes\n",
       "0  tt0000001            5.7      1969\n",
       "1  tt0000002            5.8       263\n",
       "2  tt0000003            6.5      1815\n",
       "3  tt0000004            5.6       178\n",
       "4  tt0000005            6.2      2612"
      ]
     },
     "execution_count": 18,
     "metadata": {},
     "output_type": "execute_result"
    }
   ],
   "source": [
    "title_rating.head()"
   ]
  },
  {
   "cell_type": "code",
   "execution_count": 19,
   "id": "7a804524",
   "metadata": {},
   "outputs": [
    {
     "name": "stdout",
     "output_type": "stream",
     "text": [
      "<class 'pandas.core.frame.DataFrame'>\n",
      "RangeIndex: 1308743 entries, 0 to 1308742\n",
      "Data columns (total 3 columns):\n",
      " #   Column         Non-Null Count    Dtype  \n",
      "---  ------         --------------    -----  \n",
      " 0   tconst         1308743 non-null  object \n",
      " 1   averageRating  1308743 non-null  float64\n",
      " 2   numVotes       1308743 non-null  int64  \n",
      "dtypes: float64(1), int64(1), object(1)\n",
      "memory usage: 30.0+ MB\n"
     ]
    }
   ],
   "source": [
    "title_rating.info()"
   ]
  },
  {
   "cell_type": "markdown",
   "id": "2020f6d5",
   "metadata": {},
   "source": [
    "## Data Cleaning"
   ]
  },
  {
   "cell_type": "markdown",
   "id": "08a3e6a8",
   "metadata": {},
   "source": [
    "### Title Basics column:\n",
    "\n",
    "1. Replace \"\\N\" with np.nan\n",
    "2. Eliminate movies that are null for runtimeMinutes\n",
    "3. Eliminate movies that are null for genre\n",
    "4. keep only titleType==Movie\n",
    "5. keep startYear 2000-2022\n",
    "6. Eliminate movies that include \"Documentary\" in genre \n",
    "7. Keep only US movies (Use AKAs table, see \"Filtering one dataframe based on another\" section below)"
   ]
  },
  {
   "cell_type": "code",
   "execution_count": 20,
   "id": "e3a58328",
   "metadata": {},
   "outputs": [],
   "source": [
    "# Create a copy\n",
    "title_basics_clean = title_basics.copy()"
   ]
  },
  {
   "cell_type": "markdown",
   "id": "de5e3a4e",
   "metadata": {},
   "source": [
    "**1. Replace \"\\N\" with np.nan**"
   ]
  },
  {
   "cell_type": "code",
   "execution_count": 21,
   "id": "fa05577b",
   "metadata": {},
   "outputs": [],
   "source": [
    "title_basics_clean.replace({'\\\\N':np.nan}, inplace=True)"
   ]
  },
  {
   "cell_type": "markdown",
   "id": "c092d17e",
   "metadata": {},
   "source": [
    "**2. Eliminate movies that are null for runtimeMinutes**"
   ]
  },
  {
   "cell_type": "code",
   "execution_count": 22,
   "id": "060370d8",
   "metadata": {},
   "outputs": [
    {
     "data": {
      "text/plain": [
       "tconst                  0\n",
       "titleType               0\n",
       "primaryTitle           11\n",
       "originalTitle          11\n",
       "isAdult                 1\n",
       "startYear         1330687\n",
       "endYear           9731354\n",
       "runtimeMinutes    6937611\n",
       "genres             443082\n",
       "dtype: int64"
      ]
     },
     "execution_count": 22,
     "metadata": {},
     "output_type": "execute_result"
    }
   ],
   "source": [
    "title_basics_clean.isna().sum()"
   ]
  },
  {
   "cell_type": "code",
   "execution_count": 23,
   "id": "6841147d",
   "metadata": {},
   "outputs": [],
   "source": [
    "missing_index = title_basics_clean[title_basics_clean.runtimeMinutes.isnull()].index"
   ]
  },
  {
   "cell_type": "code",
   "execution_count": 24,
   "id": "fcf6b5c0",
   "metadata": {},
   "outputs": [],
   "source": [
    "# drop rows\n",
    "title_basics_clean.drop(missing_index, inplace=True)"
   ]
  },
  {
   "cell_type": "code",
   "execution_count": 25,
   "id": "edb0dac1",
   "metadata": {},
   "outputs": [
    {
     "data": {
      "text/plain": [
       "0"
      ]
     },
     "execution_count": 25,
     "metadata": {},
     "output_type": "execute_result"
    }
   ],
   "source": [
    "# test\n",
    "title_basics_clean.runtimeMinutes.isna().sum()"
   ]
  },
  {
   "cell_type": "markdown",
   "id": "7503a621",
   "metadata": {},
   "source": [
    "**3. Eliminate movies that are null for genre**"
   ]
  },
  {
   "cell_type": "code",
   "execution_count": 26,
   "id": "4251a8b0",
   "metadata": {},
   "outputs": [],
   "source": [
    "missing_genre_index = title_basics_clean[title_basics_clean.genres.isnull()].index"
   ]
  },
  {
   "cell_type": "code",
   "execution_count": 27,
   "id": "f6263621",
   "metadata": {},
   "outputs": [],
   "source": [
    "# drop rows\n",
    "title_basics_clean.drop(missing_genre_index, inplace=True)"
   ]
  },
  {
   "cell_type": "code",
   "execution_count": 28,
   "id": "a64f5094",
   "metadata": {},
   "outputs": [
    {
     "data": {
      "text/plain": [
       "0"
      ]
     },
     "execution_count": 28,
     "metadata": {},
     "output_type": "execute_result"
    }
   ],
   "source": [
    "# test\n",
    "title_basics_clean.genres.isna().sum()"
   ]
  },
  {
   "cell_type": "markdown",
   "id": "f58e1803",
   "metadata": {},
   "source": [
    "**4. keep only titleType==Movie**"
   ]
  },
  {
   "cell_type": "code",
   "execution_count": 29,
   "id": "51dc9217",
   "metadata": {},
   "outputs": [],
   "source": [
    "# select movie type\n",
    "title_basics_clean = title_basics_clean[title_basics_clean.titleType == 'movie']"
   ]
  },
  {
   "cell_type": "code",
   "execution_count": 30,
   "id": "af56655d",
   "metadata": {},
   "outputs": [
    {
     "data": {
      "text/plain": [
       "array(['movie'], dtype=object)"
      ]
     },
     "execution_count": 30,
     "metadata": {},
     "output_type": "execute_result"
    }
   ],
   "source": [
    "# test\n",
    "title_basics_clean.titleType.unique()"
   ]
  },
  {
   "cell_type": "markdown",
   "id": "3a2437df",
   "metadata": {},
   "source": [
    "**5. keep startYear 2000-2022**"
   ]
  },
  {
   "cell_type": "code",
   "execution_count": 31,
   "id": "fcfb57c2",
   "metadata": {},
   "outputs": [],
   "source": [
    "title_basics_clean = title_basics_clean[title_basics_clean.startYear.isin(['2000', '2001', '2002'])]"
   ]
  },
  {
   "cell_type": "code",
   "execution_count": 32,
   "id": "ebee683e",
   "metadata": {},
   "outputs": [
    {
     "data": {
      "text/plain": [
       "array(['2001', '2002', '2000'], dtype=object)"
      ]
     },
     "execution_count": 32,
     "metadata": {},
     "output_type": "execute_result"
    }
   ],
   "source": [
    "# test\n",
    "title_basics_clean.startYear.unique()"
   ]
  },
  {
   "cell_type": "markdown",
   "id": "d1f82bff",
   "metadata": {},
   "source": [
    "**6. Eliminate movies that include \"Documentary\" in genre**"
   ]
  },
  {
   "cell_type": "code",
   "execution_count": 33,
   "id": "7106bc45",
   "metadata": {},
   "outputs": [],
   "source": [
    "# movie index that includes Documentary\n",
    "is_doc_index = title_basics_clean[title_basics_clean.genres.str.contains('documentary',case=False)].index"
   ]
  },
  {
   "cell_type": "code",
   "execution_count": 34,
   "id": "c3428e62",
   "metadata": {},
   "outputs": [],
   "source": [
    "# drop rows\n",
    "title_basics_clean.drop(is_doc_index, inplace=True)"
   ]
  },
  {
   "cell_type": "code",
   "execution_count": 35,
   "id": "9eb212c2",
   "metadata": {},
   "outputs": [
    {
     "data": {
      "text/plain": [
       "array([False])"
      ]
     },
     "execution_count": 35,
     "metadata": {},
     "output_type": "execute_result"
    }
   ],
   "source": [
    "# Test\n",
    "title_basics_clean.genres.str.contains('documentary',case=False).unique()"
   ]
  },
  {
   "cell_type": "markdown",
   "id": "adc0dacb",
   "metadata": {},
   "source": [
    "**7. Keep only US movies**"
   ]
  },
  {
   "cell_type": "code",
   "execution_count": 36,
   "id": "a62e0615",
   "metadata": {},
   "outputs": [],
   "source": [
    "# Filter the basics table down to only include the US by using the filter akas dataframe\n",
    "keepers = title_basics_clean['tconst'].isin(title_aka['titleId'])"
   ]
  },
  {
   "cell_type": "code",
   "execution_count": 37,
   "id": "e0fd1b84",
   "metadata": {},
   "outputs": [
    {
     "data": {
      "text/html": [
       "<div>\n",
       "<style scoped>\n",
       "    .dataframe tbody tr th:only-of-type {\n",
       "        vertical-align: middle;\n",
       "    }\n",
       "\n",
       "    .dataframe tbody tr th {\n",
       "        vertical-align: top;\n",
       "    }\n",
       "\n",
       "    .dataframe thead th {\n",
       "        text-align: right;\n",
       "    }\n",
       "</style>\n",
       "<table border=\"1\" class=\"dataframe\">\n",
       "  <thead>\n",
       "    <tr style=\"text-align: right;\">\n",
       "      <th></th>\n",
       "      <th>tconst</th>\n",
       "      <th>titleType</th>\n",
       "      <th>primaryTitle</th>\n",
       "      <th>originalTitle</th>\n",
       "      <th>isAdult</th>\n",
       "      <th>startYear</th>\n",
       "      <th>endYear</th>\n",
       "      <th>runtimeMinutes</th>\n",
       "      <th>genres</th>\n",
       "    </tr>\n",
       "  </thead>\n",
       "  <tbody>\n",
       "    <tr>\n",
       "      <th>34803</th>\n",
       "      <td>tt0035423</td>\n",
       "      <td>movie</td>\n",
       "      <td>Kate &amp; Leopold</td>\n",
       "      <td>Kate &amp; Leopold</td>\n",
       "      <td>0</td>\n",
       "      <td>2001</td>\n",
       "      <td>NaN</td>\n",
       "      <td>118</td>\n",
       "      <td>Comedy,Fantasy,Romance</td>\n",
       "    </tr>\n",
       "    <tr>\n",
       "      <th>93938</th>\n",
       "      <td>tt0096056</td>\n",
       "      <td>movie</td>\n",
       "      <td>Crime and Punishment</td>\n",
       "      <td>Crime and Punishment</td>\n",
       "      <td>0</td>\n",
       "      <td>2002</td>\n",
       "      <td>NaN</td>\n",
       "      <td>126</td>\n",
       "      <td>Drama</td>\n",
       "    </tr>\n",
       "    <tr>\n",
       "      <th>100076</th>\n",
       "      <td>tt0102362</td>\n",
       "      <td>movie</td>\n",
       "      <td>Istota</td>\n",
       "      <td>Istota</td>\n",
       "      <td>0</td>\n",
       "      <td>2000</td>\n",
       "      <td>NaN</td>\n",
       "      <td>80</td>\n",
       "      <td>Drama,Romance</td>\n",
       "    </tr>\n",
       "    <tr>\n",
       "      <th>110364</th>\n",
       "      <td>tt0112912</td>\n",
       "      <td>movie</td>\n",
       "      <td>Dune 7</td>\n",
       "      <td>Dune 7</td>\n",
       "      <td>0</td>\n",
       "      <td>2002</td>\n",
       "      <td>NaN</td>\n",
       "      <td>97</td>\n",
       "      <td>Adventure</td>\n",
       "    </tr>\n",
       "    <tr>\n",
       "      <th>110476</th>\n",
       "      <td>tt0113026</td>\n",
       "      <td>movie</td>\n",
       "      <td>The Fantasticks</td>\n",
       "      <td>The Fantasticks</td>\n",
       "      <td>0</td>\n",
       "      <td>2000</td>\n",
       "      <td>NaN</td>\n",
       "      <td>86</td>\n",
       "      <td>Musical,Romance</td>\n",
       "    </tr>\n",
       "  </tbody>\n",
       "</table>\n",
       "</div>"
      ],
      "text/plain": [
       "           tconst titleType          primaryTitle         originalTitle  \\\n",
       "34803   tt0035423     movie        Kate & Leopold        Kate & Leopold   \n",
       "93938   tt0096056     movie  Crime and Punishment  Crime and Punishment   \n",
       "100076  tt0102362     movie                Istota                Istota   \n",
       "110364  tt0112912     movie                Dune 7                Dune 7   \n",
       "110476  tt0113026     movie       The Fantasticks       The Fantasticks   \n",
       "\n",
       "       isAdult startYear endYear runtimeMinutes                  genres  \n",
       "34803        0      2001     NaN            118  Comedy,Fantasy,Romance  \n",
       "93938        0      2002     NaN            126                   Drama  \n",
       "100076       0      2000     NaN             80           Drama,Romance  \n",
       "110364       0      2002     NaN             97               Adventure  \n",
       "110476       0      2000     NaN             86         Musical,Romance  "
      ]
     },
     "execution_count": 37,
     "metadata": {},
     "output_type": "execute_result"
    }
   ],
   "source": [
    "title_basics_clean = title_basics_clean[keepers]\n",
    "title_basics_clean.head()"
   ]
  },
  {
   "cell_type": "markdown",
   "id": "60114865",
   "metadata": {},
   "source": [
    "### Title AKAs Column:\n",
    "\n",
    "1. Replace \"\\N\" with np.nan\n",
    "2. keep only US movies."
   ]
  },
  {
   "cell_type": "code",
   "execution_count": 38,
   "id": "0733971c",
   "metadata": {},
   "outputs": [],
   "source": [
    "# create a copy\n",
    "title_aka_clean = title_aka.copy()"
   ]
  },
  {
   "cell_type": "markdown",
   "id": "b653eefa",
   "metadata": {},
   "source": [
    "**1. Replace \"\\N\" with np.nan**"
   ]
  },
  {
   "cell_type": "code",
   "execution_count": 39,
   "id": "ee1206fc",
   "metadata": {},
   "outputs": [],
   "source": [
    "title_aka_clean.replace({'\\\\N':np.nan}, inplace=True)"
   ]
  },
  {
   "cell_type": "markdown",
   "id": "3c226bb5",
   "metadata": {},
   "source": [
    "**2. keep only US movies.**"
   ]
  },
  {
   "cell_type": "code",
   "execution_count": 40,
   "id": "2685b1b5",
   "metadata": {},
   "outputs": [],
   "source": [
    "title_aka_clean = title_aka_clean[title_aka_clean.region == 'US']"
   ]
  },
  {
   "cell_type": "code",
   "execution_count": 41,
   "id": "2d66be9b",
   "metadata": {},
   "outputs": [
    {
     "data": {
      "text/plain": [
       "array(['US'], dtype=object)"
      ]
     },
     "execution_count": 41,
     "metadata": {},
     "output_type": "execute_result"
    }
   ],
   "source": [
    "# test\n",
    "title_aka_clean.region.unique()"
   ]
  },
  {
   "cell_type": "markdown",
   "id": "98b49bfd",
   "metadata": {},
   "source": [
    "### Title Ratings Column:\n",
    "\n",
    "1. Replace \"\\N\" with np.nan (if any)\n",
    "2. Keep only US movies (Use AKAs table)"
   ]
  },
  {
   "cell_type": "code",
   "execution_count": 42,
   "id": "d4f156a0",
   "metadata": {},
   "outputs": [],
   "source": [
    "# create a copy\n",
    "title_rating_clean = title_rating.copy()"
   ]
  },
  {
   "cell_type": "markdown",
   "id": "ca645b62",
   "metadata": {},
   "source": [
    "**1. Replace \"\\N\" with np.nan (if any)**"
   ]
  },
  {
   "cell_type": "code",
   "execution_count": 43,
   "id": "d1af4ad4",
   "metadata": {},
   "outputs": [],
   "source": [
    "title_rating_clean.replace({'\\\\N':np.nan}, inplace=True)"
   ]
  },
  {
   "cell_type": "markdown",
   "id": "0bb7fabf",
   "metadata": {},
   "source": [
    "**2. Keep only US movies (Use AKAs table)**"
   ]
  },
  {
   "cell_type": "code",
   "execution_count": 44,
   "id": "413762ef",
   "metadata": {},
   "outputs": [],
   "source": [
    "# Filter the rating table down to only include the US by using the filter akas dataframe\n",
    "keepers = title_rating_clean['tconst'].isin(title_aka['titleId'])"
   ]
  },
  {
   "cell_type": "code",
   "execution_count": 45,
   "id": "578e3587",
   "metadata": {},
   "outputs": [
    {
     "data": {
      "text/html": [
       "<div>\n",
       "<style scoped>\n",
       "    .dataframe tbody tr th:only-of-type {\n",
       "        vertical-align: middle;\n",
       "    }\n",
       "\n",
       "    .dataframe tbody tr th {\n",
       "        vertical-align: top;\n",
       "    }\n",
       "\n",
       "    .dataframe thead th {\n",
       "        text-align: right;\n",
       "    }\n",
       "</style>\n",
       "<table border=\"1\" class=\"dataframe\">\n",
       "  <thead>\n",
       "    <tr style=\"text-align: right;\">\n",
       "      <th></th>\n",
       "      <th>tconst</th>\n",
       "      <th>averageRating</th>\n",
       "      <th>numVotes</th>\n",
       "    </tr>\n",
       "  </thead>\n",
       "  <tbody>\n",
       "    <tr>\n",
       "      <th>0</th>\n",
       "      <td>tt0000001</td>\n",
       "      <td>5.7</td>\n",
       "      <td>1969</td>\n",
       "    </tr>\n",
       "    <tr>\n",
       "      <th>1</th>\n",
       "      <td>tt0000002</td>\n",
       "      <td>5.8</td>\n",
       "      <td>263</td>\n",
       "    </tr>\n",
       "    <tr>\n",
       "      <th>2</th>\n",
       "      <td>tt0000003</td>\n",
       "      <td>6.5</td>\n",
       "      <td>1815</td>\n",
       "    </tr>\n",
       "    <tr>\n",
       "      <th>3</th>\n",
       "      <td>tt0000004</td>\n",
       "      <td>5.6</td>\n",
       "      <td>178</td>\n",
       "    </tr>\n",
       "    <tr>\n",
       "      <th>4</th>\n",
       "      <td>tt0000005</td>\n",
       "      <td>6.2</td>\n",
       "      <td>2612</td>\n",
       "    </tr>\n",
       "  </tbody>\n",
       "</table>\n",
       "</div>"
      ],
      "text/plain": [
       "      tconst  averageRating  numVotes\n",
       "0  tt0000001            5.7      1969\n",
       "1  tt0000002            5.8       263\n",
       "2  tt0000003            6.5      1815\n",
       "3  tt0000004            5.6       178\n",
       "4  tt0000005            6.2      2612"
      ]
     },
     "execution_count": 45,
     "metadata": {},
     "output_type": "execute_result"
    }
   ],
   "source": [
    "title_rating_clean = title_rating_clean[keepers]\n",
    "title_rating_clean.head()"
   ]
  },
  {
   "cell_type": "code",
   "execution_count": 46,
   "id": "333a28c8",
   "metadata": {},
   "outputs": [
    {
     "data": {
      "text/plain": [
       "['title_aka_clean.csv.gz',\n",
       " 'title_basics_clean.csv.gz',\n",
       " 'title_rating_clean.csv.gz']"
      ]
     },
     "execution_count": 46,
     "metadata": {},
     "output_type": "execute_result"
    }
   ],
   "source": [
    "# making new folder with os\n",
    "import os\n",
    "os.makedirs('Data/',exist_ok=True) \n",
    "\n",
    "# Confirm folder created\n",
    "os.listdir(\"Data/\")"
   ]
  },
  {
   "cell_type": "code",
   "execution_count": 47,
   "id": "b97f9908",
   "metadata": {},
   "outputs": [],
   "source": [
    "## Save current dataframe to file.\n",
    "title_basics_clean.to_csv(\"Data/title_basics_clean.csv.gz\",compression='gzip',index=False)"
   ]
  },
  {
   "cell_type": "code",
   "execution_count": 48,
   "id": "b235bbf4",
   "metadata": {},
   "outputs": [],
   "source": [
    "title_aka_clean.to_csv(\"Data/title_aka_clean.csv.gz\",compression='gzip',index=False)"
   ]
  },
  {
   "cell_type": "code",
   "execution_count": 49,
   "id": "a3868e06",
   "metadata": {},
   "outputs": [],
   "source": [
    "title_rating_clean.to_csv(\"Data/title_rating_clean.csv.gz\",compression='gzip',index=False)"
   ]
  },
  {
   "cell_type": "code",
   "execution_count": 50,
   "id": "4614a964",
   "metadata": {},
   "outputs": [
    {
     "data": {
      "text/html": [
       "<div>\n",
       "<style scoped>\n",
       "    .dataframe tbody tr th:only-of-type {\n",
       "        vertical-align: middle;\n",
       "    }\n",
       "\n",
       "    .dataframe tbody tr th {\n",
       "        vertical-align: top;\n",
       "    }\n",
       "\n",
       "    .dataframe thead th {\n",
       "        text-align: right;\n",
       "    }\n",
       "</style>\n",
       "<table border=\"1\" class=\"dataframe\">\n",
       "  <thead>\n",
       "    <tr style=\"text-align: right;\">\n",
       "      <th></th>\n",
       "      <th>tconst</th>\n",
       "      <th>titleType</th>\n",
       "      <th>primaryTitle</th>\n",
       "      <th>originalTitle</th>\n",
       "      <th>isAdult</th>\n",
       "      <th>startYear</th>\n",
       "      <th>endYear</th>\n",
       "      <th>runtimeMinutes</th>\n",
       "      <th>genres</th>\n",
       "    </tr>\n",
       "  </thead>\n",
       "  <tbody>\n",
       "    <tr>\n",
       "      <th>0</th>\n",
       "      <td>tt0035423</td>\n",
       "      <td>movie</td>\n",
       "      <td>Kate &amp; Leopold</td>\n",
       "      <td>Kate &amp; Leopold</td>\n",
       "      <td>0</td>\n",
       "      <td>2001</td>\n",
       "      <td>NaN</td>\n",
       "      <td>118</td>\n",
       "      <td>Comedy,Fantasy,Romance</td>\n",
       "    </tr>\n",
       "    <tr>\n",
       "      <th>1</th>\n",
       "      <td>tt0096056</td>\n",
       "      <td>movie</td>\n",
       "      <td>Crime and Punishment</td>\n",
       "      <td>Crime and Punishment</td>\n",
       "      <td>0</td>\n",
       "      <td>2002</td>\n",
       "      <td>NaN</td>\n",
       "      <td>126</td>\n",
       "      <td>Drama</td>\n",
       "    </tr>\n",
       "    <tr>\n",
       "      <th>2</th>\n",
       "      <td>tt0102362</td>\n",
       "      <td>movie</td>\n",
       "      <td>Istota</td>\n",
       "      <td>Istota</td>\n",
       "      <td>0</td>\n",
       "      <td>2000</td>\n",
       "      <td>NaN</td>\n",
       "      <td>80</td>\n",
       "      <td>Drama,Romance</td>\n",
       "    </tr>\n",
       "    <tr>\n",
       "      <th>3</th>\n",
       "      <td>tt0112912</td>\n",
       "      <td>movie</td>\n",
       "      <td>Dune 7</td>\n",
       "      <td>Dune 7</td>\n",
       "      <td>0</td>\n",
       "      <td>2002</td>\n",
       "      <td>NaN</td>\n",
       "      <td>97</td>\n",
       "      <td>Adventure</td>\n",
       "    </tr>\n",
       "    <tr>\n",
       "      <th>4</th>\n",
       "      <td>tt0113026</td>\n",
       "      <td>movie</td>\n",
       "      <td>The Fantasticks</td>\n",
       "      <td>The Fantasticks</td>\n",
       "      <td>0</td>\n",
       "      <td>2000</td>\n",
       "      <td>NaN</td>\n",
       "      <td>86</td>\n",
       "      <td>Musical,Romance</td>\n",
       "    </tr>\n",
       "  </tbody>\n",
       "</table>\n",
       "</div>"
      ],
      "text/plain": [
       "      tconst titleType          primaryTitle         originalTitle  isAdult  \\\n",
       "0  tt0035423     movie        Kate & Leopold        Kate & Leopold        0   \n",
       "1  tt0096056     movie  Crime and Punishment  Crime and Punishment        0   \n",
       "2  tt0102362     movie                Istota                Istota        0   \n",
       "3  tt0112912     movie                Dune 7                Dune 7        0   \n",
       "4  tt0113026     movie       The Fantasticks       The Fantasticks        0   \n",
       "\n",
       "   startYear  endYear  runtimeMinutes                  genres  \n",
       "0       2001      NaN             118  Comedy,Fantasy,Romance  \n",
       "1       2002      NaN             126                   Drama  \n",
       "2       2000      NaN              80           Drama,Romance  \n",
       "3       2002      NaN              97               Adventure  \n",
       "4       2000      NaN              86         Musical,Romance  "
      ]
     },
     "execution_count": 50,
     "metadata": {},
     "output_type": "execute_result"
    }
   ],
   "source": [
    "# Open saved file and preview again\n",
    "title_basics = pd.read_csv(\"Data/title_basics_clean.csv.gz\", low_memory = False)\n",
    "title_basics.head()"
   ]
  },
  {
   "cell_type": "code",
   "execution_count": 51,
   "id": "27119685",
   "metadata": {},
   "outputs": [
    {
     "data": {
      "text/html": [
       "<div>\n",
       "<style scoped>\n",
       "    .dataframe tbody tr th:only-of-type {\n",
       "        vertical-align: middle;\n",
       "    }\n",
       "\n",
       "    .dataframe tbody tr th {\n",
       "        vertical-align: top;\n",
       "    }\n",
       "\n",
       "    .dataframe thead th {\n",
       "        text-align: right;\n",
       "    }\n",
       "</style>\n",
       "<table border=\"1\" class=\"dataframe\">\n",
       "  <thead>\n",
       "    <tr style=\"text-align: right;\">\n",
       "      <th></th>\n",
       "      <th>tconst</th>\n",
       "      <th>averageRating</th>\n",
       "      <th>numVotes</th>\n",
       "    </tr>\n",
       "  </thead>\n",
       "  <tbody>\n",
       "    <tr>\n",
       "      <th>0</th>\n",
       "      <td>tt0000001</td>\n",
       "      <td>5.7</td>\n",
       "      <td>1969</td>\n",
       "    </tr>\n",
       "    <tr>\n",
       "      <th>1</th>\n",
       "      <td>tt0000002</td>\n",
       "      <td>5.8</td>\n",
       "      <td>263</td>\n",
       "    </tr>\n",
       "    <tr>\n",
       "      <th>2</th>\n",
       "      <td>tt0000003</td>\n",
       "      <td>6.5</td>\n",
       "      <td>1815</td>\n",
       "    </tr>\n",
       "    <tr>\n",
       "      <th>3</th>\n",
       "      <td>tt0000004</td>\n",
       "      <td>5.6</td>\n",
       "      <td>178</td>\n",
       "    </tr>\n",
       "    <tr>\n",
       "      <th>4</th>\n",
       "      <td>tt0000005</td>\n",
       "      <td>6.2</td>\n",
       "      <td>2612</td>\n",
       "    </tr>\n",
       "  </tbody>\n",
       "</table>\n",
       "</div>"
      ],
      "text/plain": [
       "      tconst  averageRating  numVotes\n",
       "0  tt0000001            5.7      1969\n",
       "1  tt0000002            5.8       263\n",
       "2  tt0000003            6.5      1815\n",
       "3  tt0000004            5.6       178\n",
       "4  tt0000005            6.2      2612"
      ]
     },
     "execution_count": 51,
     "metadata": {},
     "output_type": "execute_result"
    }
   ],
   "source": [
    "# Open saved file and preview again\n",
    "title_rating = pd.read_csv(\"Data/title_rating_clean.csv.gz\", low_memory = False)\n",
    "title_rating.head()"
   ]
  }
 ],
 "metadata": {
  "kernelspec": {
   "display_name": "Python 3 (ipykernel)",
   "language": "python",
   "name": "python3"
  },
  "language_info": {
   "codemirror_mode": {
    "name": "ipython",
    "version": 3
   },
   "file_extension": ".py",
   "mimetype": "text/x-python",
   "name": "python",
   "nbconvert_exporter": "python",
   "pygments_lexer": "ipython3",
   "version": "3.10.9"
  }
 },
 "nbformat": 4,
 "nbformat_minor": 5
}
