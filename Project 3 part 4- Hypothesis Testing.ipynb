{
 "cells": [
  {
   "cell_type": "code",
   "execution_count": 1,
   "id": "89b4d5b9",
   "metadata": {},
   "outputs": [],
   "source": [
    "import pandas as pd\n",
    "import numpy as np\n",
    "import matplotlib.pyplot as plt\n",
    "import seaborn as sns\n",
    "import scipy.stats as stats\n",
    "import glob"
   ]
  },
  {
   "cell_type": "code",
   "execution_count": 6,
   "id": "d9226fab",
   "metadata": {},
   "outputs": [
    {
     "data": {
      "text/plain": [
       "['Data\\\\final_tmdb_data_2000.csv.gz',\n",
       " 'Data\\\\final_tmdb_data_2001.csv.gz',\n",
       " 'Data\\\\final_tmdb_data_2002.csv.gz',\n",
       " 'Data\\\\final_tmdb_data_2003.csv.gz',\n",
       " 'Data\\\\final_tmdb_data_2004.csv.gz',\n",
       " 'Data\\\\final_tmdb_data_2010.csv.gz',\n",
       " 'Data\\\\final_tmdb_data_2011.csv.gz',\n",
       " 'Data\\\\final_tmdb_data_2012.csv.gz']"
      ]
     },
     "execution_count": 6,
     "metadata": {},
     "output_type": "execute_result"
    }
   ],
   "source": [
    "# combine and sort files\n",
    "q = \"Data/final_tmdb_data*.csv.gz\"\n",
    "chunked_files = sorted(glob.glob(q))\n",
    "# Showing the first 5 \n",
    "chunked_files"
   ]
  },
  {
   "cell_type": "code",
   "execution_count": 3,
   "id": "70acee53",
   "metadata": {},
   "outputs": [
    {
     "data": {
      "text/html": [
       "<div>\n",
       "<style scoped>\n",
       "    .dataframe tbody tr th:only-of-type {\n",
       "        vertical-align: middle;\n",
       "    }\n",
       "\n",
       "    .dataframe tbody tr th {\n",
       "        vertical-align: top;\n",
       "    }\n",
       "\n",
       "    .dataframe thead th {\n",
       "        text-align: right;\n",
       "    }\n",
       "</style>\n",
       "<table border=\"1\" class=\"dataframe\">\n",
       "  <thead>\n",
       "    <tr style=\"text-align: right;\">\n",
       "      <th></th>\n",
       "      <th>adult</th>\n",
       "      <th>backdrop_path</th>\n",
       "      <th>belongs_to_collection</th>\n",
       "      <th>budget</th>\n",
       "      <th>genres</th>\n",
       "      <th>homepage</th>\n",
       "      <th>id</th>\n",
       "      <th>original_language</th>\n",
       "      <th>original_title</th>\n",
       "      <th>overview</th>\n",
       "      <th>...</th>\n",
       "      <th>revenue</th>\n",
       "      <th>runtime</th>\n",
       "      <th>spoken_languages</th>\n",
       "      <th>status</th>\n",
       "      <th>tagline</th>\n",
       "      <th>title</th>\n",
       "      <th>video</th>\n",
       "      <th>vote_average</th>\n",
       "      <th>vote_count</th>\n",
       "      <th>certification</th>\n",
       "    </tr>\n",
       "    <tr>\n",
       "      <th>imdb_id</th>\n",
       "      <th></th>\n",
       "      <th></th>\n",
       "      <th></th>\n",
       "      <th></th>\n",
       "      <th></th>\n",
       "      <th></th>\n",
       "      <th></th>\n",
       "      <th></th>\n",
       "      <th></th>\n",
       "      <th></th>\n",
       "      <th></th>\n",
       "      <th></th>\n",
       "      <th></th>\n",
       "      <th></th>\n",
       "      <th></th>\n",
       "      <th></th>\n",
       "      <th></th>\n",
       "      <th></th>\n",
       "      <th></th>\n",
       "      <th></th>\n",
       "      <th></th>\n",
       "    </tr>\n",
       "  </thead>\n",
       "  <tbody>\n",
       "    <tr>\n",
       "      <th>0</th>\n",
       "      <td>NaN</td>\n",
       "      <td>NaN</td>\n",
       "      <td>NaN</td>\n",
       "      <td>NaN</td>\n",
       "      <td>NaN</td>\n",
       "      <td>NaN</td>\n",
       "      <td>NaN</td>\n",
       "      <td>NaN</td>\n",
       "      <td>NaN</td>\n",
       "      <td>NaN</td>\n",
       "      <td>...</td>\n",
       "      <td>NaN</td>\n",
       "      <td>NaN</td>\n",
       "      <td>NaN</td>\n",
       "      <td>NaN</td>\n",
       "      <td>NaN</td>\n",
       "      <td>NaN</td>\n",
       "      <td>NaN</td>\n",
       "      <td>NaN</td>\n",
       "      <td>NaN</td>\n",
       "      <td>NaN</td>\n",
       "    </tr>\n",
       "    <tr>\n",
       "      <th>tt0113026</th>\n",
       "      <td>0.0</td>\n",
       "      <td>/vMFs7nw6P0bIV1jDsQpxAieAVnH.jpg</td>\n",
       "      <td>NaN</td>\n",
       "      <td>10000000.0</td>\n",
       "      <td>[{'id': 35, 'name': 'Comedy'}, {'id': 10402, '...</td>\n",
       "      <td>NaN</td>\n",
       "      <td>62127.0</td>\n",
       "      <td>en</td>\n",
       "      <td>The Fantasticks</td>\n",
       "      <td>Two rural teens sing and dance their way throu...</td>\n",
       "      <td>...</td>\n",
       "      <td>0.0</td>\n",
       "      <td>86.0</td>\n",
       "      <td>[{'english_name': 'English', 'iso_639_1': 'en'...</td>\n",
       "      <td>Released</td>\n",
       "      <td>Try to remember the first time magic happened</td>\n",
       "      <td>The Fantasticks</td>\n",
       "      <td>0.0</td>\n",
       "      <td>5.500</td>\n",
       "      <td>22.0</td>\n",
       "      <td>NaN</td>\n",
       "    </tr>\n",
       "    <tr>\n",
       "      <th>tt0113092</th>\n",
       "      <td>0.0</td>\n",
       "      <td>NaN</td>\n",
       "      <td>NaN</td>\n",
       "      <td>0.0</td>\n",
       "      <td>[{'id': 878, 'name': 'Science Fiction'}]</td>\n",
       "      <td>NaN</td>\n",
       "      <td>110977.0</td>\n",
       "      <td>en</td>\n",
       "      <td>For the Cause</td>\n",
       "      <td>Earth is in a state of constant war and two co...</td>\n",
       "      <td>...</td>\n",
       "      <td>0.0</td>\n",
       "      <td>100.0</td>\n",
       "      <td>[{'english_name': 'English', 'iso_639_1': 'en'...</td>\n",
       "      <td>Released</td>\n",
       "      <td>The ultimate showdown on a forbidden planet.</td>\n",
       "      <td>For the Cause</td>\n",
       "      <td>0.0</td>\n",
       "      <td>5.100</td>\n",
       "      <td>8.0</td>\n",
       "      <td>NaN</td>\n",
       "    </tr>\n",
       "    <tr>\n",
       "      <th>tt0116391</th>\n",
       "      <td>0.0</td>\n",
       "      <td>NaN</td>\n",
       "      <td>NaN</td>\n",
       "      <td>0.0</td>\n",
       "      <td>[{'id': 18, 'name': 'Drama'}, {'id': 28, 'name...</td>\n",
       "      <td>NaN</td>\n",
       "      <td>442869.0</td>\n",
       "      <td>hi</td>\n",
       "      <td>Gang</td>\n",
       "      <td>After falling prey to underworld, four friends...</td>\n",
       "      <td>...</td>\n",
       "      <td>0.0</td>\n",
       "      <td>152.0</td>\n",
       "      <td>[{'english_name': 'Hindi', 'iso_639_1': 'hi', ...</td>\n",
       "      <td>Released</td>\n",
       "      <td>NaN</td>\n",
       "      <td>Gang</td>\n",
       "      <td>0.0</td>\n",
       "      <td>4.000</td>\n",
       "      <td>1.0</td>\n",
       "      <td>NaN</td>\n",
       "    </tr>\n",
       "    <tr>\n",
       "      <th>tt0118694</th>\n",
       "      <td>0.0</td>\n",
       "      <td>/n4GJFGzsc7NinI1VeGDXIcQjtU2.jpg</td>\n",
       "      <td>NaN</td>\n",
       "      <td>150000.0</td>\n",
       "      <td>[{'id': 18, 'name': 'Drama'}, {'id': 10749, 'n...</td>\n",
       "      <td>NaN</td>\n",
       "      <td>843.0</td>\n",
       "      <td>cn</td>\n",
       "      <td>花樣年華</td>\n",
       "      <td>Two neighbors become intimate after discoverin...</td>\n",
       "      <td>...</td>\n",
       "      <td>12854953.0</td>\n",
       "      <td>99.0</td>\n",
       "      <td>[{'english_name': 'Cantonese', 'iso_639_1': 'c...</td>\n",
       "      <td>Released</td>\n",
       "      <td>Feel the heat, keep the feeling burning, let t...</td>\n",
       "      <td>In the Mood for Love</td>\n",
       "      <td>0.0</td>\n",
       "      <td>8.117</td>\n",
       "      <td>2200.0</td>\n",
       "      <td>PG</td>\n",
       "    </tr>\n",
       "  </tbody>\n",
       "</table>\n",
       "<p>5 rows × 25 columns</p>\n",
       "</div>"
      ],
      "text/plain": [
       "           adult                     backdrop_path belongs_to_collection  \\\n",
       "imdb_id                                                                    \n",
       "0            NaN                               NaN                   NaN   \n",
       "tt0113026    0.0  /vMFs7nw6P0bIV1jDsQpxAieAVnH.jpg                   NaN   \n",
       "tt0113092    0.0                               NaN                   NaN   \n",
       "tt0116391    0.0                               NaN                   NaN   \n",
       "tt0118694    0.0  /n4GJFGzsc7NinI1VeGDXIcQjtU2.jpg                   NaN   \n",
       "\n",
       "               budget                                             genres  \\\n",
       "imdb_id                                                                    \n",
       "0                 NaN                                                NaN   \n",
       "tt0113026  10000000.0  [{'id': 35, 'name': 'Comedy'}, {'id': 10402, '...   \n",
       "tt0113092         0.0           [{'id': 878, 'name': 'Science Fiction'}]   \n",
       "tt0116391         0.0  [{'id': 18, 'name': 'Drama'}, {'id': 28, 'name...   \n",
       "tt0118694    150000.0  [{'id': 18, 'name': 'Drama'}, {'id': 10749, 'n...   \n",
       "\n",
       "          homepage        id original_language   original_title  \\\n",
       "imdb_id                                                           \n",
       "0              NaN       NaN               NaN              NaN   \n",
       "tt0113026      NaN   62127.0                en  The Fantasticks   \n",
       "tt0113092      NaN  110977.0                en    For the Cause   \n",
       "tt0116391      NaN  442869.0                hi             Gang   \n",
       "tt0118694      NaN     843.0                cn             花樣年華   \n",
       "\n",
       "                                                    overview  ...     revenue  \\\n",
       "imdb_id                                                       ...               \n",
       "0                                                        NaN  ...         NaN   \n",
       "tt0113026  Two rural teens sing and dance their way throu...  ...         0.0   \n",
       "tt0113092  Earth is in a state of constant war and two co...  ...         0.0   \n",
       "tt0116391  After falling prey to underworld, four friends...  ...         0.0   \n",
       "tt0118694  Two neighbors become intimate after discoverin...  ...  12854953.0   \n",
       "\n",
       "          runtime                                   spoken_languages  \\\n",
       "imdb_id                                                                \n",
       "0             NaN                                                NaN   \n",
       "tt0113026    86.0  [{'english_name': 'English', 'iso_639_1': 'en'...   \n",
       "tt0113092   100.0  [{'english_name': 'English', 'iso_639_1': 'en'...   \n",
       "tt0116391   152.0  [{'english_name': 'Hindi', 'iso_639_1': 'hi', ...   \n",
       "tt0118694    99.0  [{'english_name': 'Cantonese', 'iso_639_1': 'c...   \n",
       "\n",
       "             status                                            tagline  \\\n",
       "imdb_id                                                                  \n",
       "0               NaN                                                NaN   \n",
       "tt0113026  Released      Try to remember the first time magic happened   \n",
       "tt0113092  Released       The ultimate showdown on a forbidden planet.   \n",
       "tt0116391  Released                                                NaN   \n",
       "tt0118694  Released  Feel the heat, keep the feeling burning, let t...   \n",
       "\n",
       "                          title  video vote_average vote_count certification  \n",
       "imdb_id                                                                       \n",
       "0                           NaN    NaN          NaN        NaN           NaN  \n",
       "tt0113026       The Fantasticks    0.0        5.500       22.0           NaN  \n",
       "tt0113092         For the Cause    0.0        5.100        8.0           NaN  \n",
       "tt0116391                  Gang    0.0        4.000        1.0           NaN  \n",
       "tt0118694  In the Mood for Love    0.0        8.117     2200.0            PG  \n",
       "\n",
       "[5 rows x 25 columns]"
      ]
     },
     "execution_count": 3,
     "metadata": {},
     "output_type": "execute_result"
    }
   ],
   "source": [
    "## Loading and Concatenating the list of dfs\n",
    "df_combined = pd.concat([pd.read_csv(file, index_col=0) for file in chunked_files])\n",
    "df_combined.head()"
   ]
  },
  {
   "cell_type": "code",
   "execution_count": 9,
   "id": "70ad2e89",
   "metadata": {},
   "outputs": [
    {
     "data": {
      "text/html": [
       "<div>\n",
       "<style scoped>\n",
       "    .dataframe tbody tr th:only-of-type {\n",
       "        vertical-align: middle;\n",
       "    }\n",
       "\n",
       "    .dataframe tbody tr th {\n",
       "        vertical-align: top;\n",
       "    }\n",
       "\n",
       "    .dataframe thead th {\n",
       "        text-align: right;\n",
       "    }\n",
       "</style>\n",
       "<table border=\"1\" class=\"dataframe\">\n",
       "  <thead>\n",
       "    <tr style=\"text-align: right;\">\n",
       "      <th></th>\n",
       "      <th>revenue</th>\n",
       "      <th>budget</th>\n",
       "    </tr>\n",
       "    <tr>\n",
       "      <th>imdb_id</th>\n",
       "      <th></th>\n",
       "      <th></th>\n",
       "    </tr>\n",
       "  </thead>\n",
       "  <tbody>\n",
       "    <tr>\n",
       "      <th>tt0118694</th>\n",
       "      <td>12854953.0</td>\n",
       "      <td>150000.0</td>\n",
       "    </tr>\n",
       "    <tr>\n",
       "      <th>tt0120467</th>\n",
       "      <td>14904.0</td>\n",
       "      <td>120000.0</td>\n",
       "    </tr>\n",
       "    <tr>\n",
       "      <th>tt0120630</th>\n",
       "      <td>224834564.0</td>\n",
       "      <td>45000000.0</td>\n",
       "    </tr>\n",
       "    <tr>\n",
       "      <th>tt0120753</th>\n",
       "      <td>105983.0</td>\n",
       "      <td>8000000.0</td>\n",
       "    </tr>\n",
       "    <tr>\n",
       "      <th>tt0120755</th>\n",
       "      <td>546388105.0</td>\n",
       "      <td>125000000.0</td>\n",
       "    </tr>\n",
       "    <tr>\n",
       "      <th>tt0120903</th>\n",
       "      <td>296339527.0</td>\n",
       "      <td>75000000.0</td>\n",
       "    </tr>\n",
       "    <tr>\n",
       "      <th>tt0120913</th>\n",
       "      <td>36754634.0</td>\n",
       "      <td>75000000.0</td>\n",
       "    </tr>\n",
       "    <tr>\n",
       "      <th>tt0120917</th>\n",
       "      <td>169327687.0</td>\n",
       "      <td>100000000.0</td>\n",
       "    </tr>\n",
       "    <tr>\n",
       "      <th>tt0122459</th>\n",
       "      <td>36609995.0</td>\n",
       "      <td>24000000.0</td>\n",
       "    </tr>\n",
       "    <tr>\n",
       "      <th>tt0127349</th>\n",
       "      <td>327418.0</td>\n",
       "      <td>8500000.0</td>\n",
       "    </tr>\n",
       "  </tbody>\n",
       "</table>\n",
       "</div>"
      ],
      "text/plain": [
       "               revenue       budget\n",
       "imdb_id                            \n",
       "tt0118694   12854953.0     150000.0\n",
       "tt0120467      14904.0     120000.0\n",
       "tt0120630  224834564.0   45000000.0\n",
       "tt0120753     105983.0    8000000.0\n",
       "tt0120755  546388105.0  125000000.0\n",
       "tt0120903  296339527.0   75000000.0\n",
       "tt0120913   36754634.0   75000000.0\n",
       "tt0120917  169327687.0  100000000.0\n",
       "tt0122459   36609995.0   24000000.0\n",
       "tt0127349     327418.0    8500000.0"
      ]
     },
     "execution_count": 9,
     "metadata": {},
     "output_type": "execute_result"
    }
   ],
   "source": [
    "# Exclude movies with 0 for budget and revenue\n",
    "df = df_combined[(df_combined.revenue > 0) & (df_combined.budget > 0)]\n",
    "df[['revenue', 'budget']].head(10)"
   ]
  },
  {
   "cell_type": "markdown",
   "id": "7578eb1f",
   "metadata": {},
   "source": [
    "### Does the MPAA rating of a movie (G/PG/PG-13/R) affect how much revenue the movie generates?"
   ]
  },
  {
   "cell_type": "markdown",
   "id": "6af03dc8",
   "metadata": {},
   "source": [
    "Null Hypothesis:  Different MPAA rating (G/PG/PG-13/R) all have the same revenue. (the revenue is not significantly different between MPAA rating)\n",
    "\n",
    "Alternative Hypothesis: Different MPAA rating (G/PG/PG-13/R) have different revenue. (the revenuw is significantly different between MPAA rating)\n",
    "\n",
    "Using an alpha=.05\n",
    "\n",
    "Test Used: ANOVA"
   ]
  },
  {
   "cell_type": "code",
   "execution_count": 51,
   "id": "0ccce9e5",
   "metadata": {},
   "outputs": [],
   "source": [
    "# create a copy of df\n",
    "df_clean = df.copy()"
   ]
  },
  {
   "cell_type": "code",
   "execution_count": 52,
   "id": "d7d4bdbf",
   "metadata": {},
   "outputs": [],
   "source": [
    "# Remove NAN from certification\n",
    "df_clean.dropna(subset= 'certification', inplace=True)"
   ]
  },
  {
   "cell_type": "code",
   "execution_count": 53,
   "id": "0e4e5409",
   "metadata": {},
   "outputs": [],
   "source": [
    "# only 4 rating are required (G/PG/PG-13/R)\n",
    "# Remove 'NC-17' and NR from certification(4 movies fall in NC-17 rating) \n",
    "\n",
    "df_clean = df_clean[~df_clean['certification'].isin(['NC-17','NR'])]"
   ]
  },
  {
   "cell_type": "code",
   "execution_count": 54,
   "id": "048f95dd",
   "metadata": {},
   "outputs": [
    {
     "data": {
      "text/plain": [
       "array(['PG', 'R', 'G', 'PG-13'], dtype=object)"
      ]
     },
     "execution_count": 54,
     "metadata": {},
     "output_type": "execute_result"
    }
   ],
   "source": [
    "# different MPAA rating available\n",
    "df_clean['certification'].unique()"
   ]
  },
  {
   "cell_type": "code",
   "execution_count": 55,
   "id": "07477aeb",
   "metadata": {},
   "outputs": [],
   "source": [
    "# Create groups dictionary.\n",
    "groups = {}\n",
    "## Loop through all unique categories\n",
    "for i in df_clean['certification'].unique():\n",
    "    ## Get series for group and rename\n",
    "    data = df_clean.loc[df['certification']==i,'revenue'].copy()\n",
    "    \n",
    "    # save into the dictionary\n",
    "    groups[i] = data"
   ]
  },
  {
   "cell_type": "code",
   "execution_count": 56,
   "id": "710ce910",
   "metadata": {},
   "outputs": [
    {
     "data": {
      "text/plain": [
       "dict_keys(['PG', 'R', 'G', 'PG-13'])"
      ]
     },
     "execution_count": 56,
     "metadata": {},
     "output_type": "execute_result"
    }
   ],
   "source": [
    "groups.keys()"
   ]
  },
  {
   "cell_type": "markdown",
   "id": "22e96f43",
   "metadata": {},
   "source": [
    "### Testing Assumptions"
   ]
  },
  {
   "cell_type": "code",
   "execution_count": 57,
   "id": "e169d117",
   "metadata": {},
   "outputs": [],
   "source": [
    "## Running normal test on each group and confirming there are >20 in each group\n",
    "norm_results = {}\n",
    "for i, data in groups.items():\n",
    "    stat, p = stats.normaltest(data)\n",
    "    ## save the p val, test statistic, and the size of the group\n",
    "    norm_results[i] = {'n': len(data),\n",
    "                             'p':p,\n",
    "                             'test stat':stat,}"
   ]
  },
  {
   "cell_type": "code",
   "execution_count": 58,
   "id": "e94c1350",
   "metadata": {},
   "outputs": [
    {
     "data": {
      "text/html": [
       "<div>\n",
       "<style scoped>\n",
       "    .dataframe tbody tr th:only-of-type {\n",
       "        vertical-align: middle;\n",
       "    }\n",
       "\n",
       "    .dataframe tbody tr th {\n",
       "        vertical-align: top;\n",
       "    }\n",
       "\n",
       "    .dataframe thead th {\n",
       "        text-align: right;\n",
       "    }\n",
       "</style>\n",
       "<table border=\"1\" class=\"dataframe\">\n",
       "  <thead>\n",
       "    <tr style=\"text-align: right;\">\n",
       "      <th></th>\n",
       "      <th>n</th>\n",
       "      <th>p</th>\n",
       "      <th>test stat</th>\n",
       "    </tr>\n",
       "  </thead>\n",
       "  <tbody>\n",
       "    <tr>\n",
       "      <th>PG</th>\n",
       "      <td>174.0</td>\n",
       "      <td>2.740871e-18</td>\n",
       "      <td>80.876512</td>\n",
       "    </tr>\n",
       "    <tr>\n",
       "      <th>R</th>\n",
       "      <td>571.0</td>\n",
       "      <td>2.760734e-96</td>\n",
       "      <td>440.065345</td>\n",
       "    </tr>\n",
       "    <tr>\n",
       "      <th>G</th>\n",
       "      <td>34.0</td>\n",
       "      <td>2.139270e-08</td>\n",
       "      <td>35.320432</td>\n",
       "    </tr>\n",
       "    <tr>\n",
       "      <th>PG-13</th>\n",
       "      <td>508.0</td>\n",
       "      <td>1.515066e-80</td>\n",
       "      <td>367.582697</td>\n",
       "    </tr>\n",
       "  </tbody>\n",
       "</table>\n",
       "</div>"
      ],
      "text/plain": [
       "           n             p   test stat\n",
       "PG     174.0  2.740871e-18   80.876512\n",
       "R      571.0  2.760734e-96  440.065345\n",
       "G       34.0  2.139270e-08   35.320432\n",
       "PG-13  508.0  1.515066e-80  367.582697"
      ]
     },
     "execution_count": 58,
     "metadata": {},
     "output_type": "execute_result"
    }
   ],
   "source": [
    "## convert to a dataframe(Transpose form- row to col)\n",
    "norm_results_df = pd.DataFrame(norm_results).T  \n",
    "norm_results_df"
   ]
  },
  {
   "cell_type": "code",
   "execution_count": 59,
   "id": "489ceef1",
   "metadata": {},
   "outputs": [
    {
     "data": {
      "text/html": [
       "<div>\n",
       "<style scoped>\n",
       "    .dataframe tbody tr th:only-of-type {\n",
       "        vertical-align: middle;\n",
       "    }\n",
       "\n",
       "    .dataframe tbody tr th {\n",
       "        vertical-align: top;\n",
       "    }\n",
       "\n",
       "    .dataframe thead th {\n",
       "        text-align: right;\n",
       "    }\n",
       "</style>\n",
       "<table border=\"1\" class=\"dataframe\">\n",
       "  <thead>\n",
       "    <tr style=\"text-align: right;\">\n",
       "      <th></th>\n",
       "      <th>n</th>\n",
       "      <th>p</th>\n",
       "      <th>test stat</th>\n",
       "      <th>normal</th>\n",
       "    </tr>\n",
       "  </thead>\n",
       "  <tbody>\n",
       "    <tr>\n",
       "      <th>PG</th>\n",
       "      <td>174.0</td>\n",
       "      <td>2.740871e-18</td>\n",
       "      <td>80.876512</td>\n",
       "      <td>False</td>\n",
       "    </tr>\n",
       "    <tr>\n",
       "      <th>R</th>\n",
       "      <td>571.0</td>\n",
       "      <td>2.760734e-96</td>\n",
       "      <td>440.065345</td>\n",
       "      <td>False</td>\n",
       "    </tr>\n",
       "    <tr>\n",
       "      <th>G</th>\n",
       "      <td>34.0</td>\n",
       "      <td>2.139270e-08</td>\n",
       "      <td>35.320432</td>\n",
       "      <td>False</td>\n",
       "    </tr>\n",
       "    <tr>\n",
       "      <th>PG-13</th>\n",
       "      <td>508.0</td>\n",
       "      <td>1.515066e-80</td>\n",
       "      <td>367.582697</td>\n",
       "      <td>False</td>\n",
       "    </tr>\n",
       "  </tbody>\n",
       "</table>\n",
       "</div>"
      ],
      "text/plain": [
       "           n             p   test stat  normal\n",
       "PG     174.0  2.740871e-18   80.876512   False\n",
       "R      571.0  2.760734e-96  440.065345   False\n",
       "G       34.0  2.139270e-08   35.320432   False\n",
       "PG-13  508.0  1.515066e-80  367.582697   False"
      ]
     },
     "execution_count": 59,
     "metadata": {},
     "output_type": "execute_result"
    }
   ],
   "source": [
    "### checking normality with pandas \n",
    "norm_results_df['normal'] = norm_results_df['p'] > .05 \n",
    "norm_results_df"
   ]
  },
  {
   "cell_type": "markdown",
   "id": "150c8bda",
   "metadata": {},
   "source": [
    "The distribution for each MPAA rating is not normal but since size(n) for each distribution is greater than 15 we can safely move to the next stage"
   ]
  },
  {
   "cell_type": "code",
   "execution_count": 60,
   "id": "09448aab",
   "metadata": {},
   "outputs": [
    {
     "data": {
      "text/plain": [
       "LeveneResult(statistic=24.96186384539605, pvalue=1.0676370907699397e-15)"
      ]
     },
     "execution_count": 60,
     "metadata": {},
     "output_type": "execute_result"
    }
   ],
   "source": [
    "### Testing Assumption of Equal Variance\n",
    "\n",
    "# with the * operator \n",
    "result = stats.levene(*groups.values())\n",
    "result"
   ]
  },
  {
   "cell_type": "code",
   "execution_count": 61,
   "id": "e4b6dcf4",
   "metadata": {},
   "outputs": [
    {
     "data": {
      "text/plain": [
       "True"
      ]
     },
     "execution_count": 61,
     "metadata": {},
     "output_type": "execute_result"
    }
   ],
   "source": [
    "result.pvalue < 0.05"
   ]
  },
  {
   "cell_type": "markdown",
   "id": "778adb2c",
   "metadata": {},
   "source": [
    "We met the assumption of equal variance."
   ]
  },
  {
   "cell_type": "markdown",
   "id": "61cedda0",
   "metadata": {},
   "source": [
    "### One-Way ANOVA Test\n",
    "Now that we have checked the assumptions, we will perform the test."
   ]
  },
  {
   "cell_type": "code",
   "execution_count": 62,
   "id": "03b453ee",
   "metadata": {},
   "outputs": [
    {
     "data": {
      "text/plain": [
       "F_onewayResult(statistic=36.13733900072907, pvalue=2.025818095164767e-22)"
      ]
     },
     "execution_count": 62,
     "metadata": {},
     "output_type": "execute_result"
    }
   ],
   "source": [
    "#  the use of the * operator for convenience\n",
    "result = stats.f_oneway( *groups.values())\n",
    "result"
   ]
  },
  {
   "cell_type": "code",
   "execution_count": 63,
   "id": "1e5a19e7",
   "metadata": {},
   "outputs": [
    {
     "data": {
      "text/plain": [
       "True"
      ]
     },
     "execution_count": 63,
     "metadata": {},
     "output_type": "execute_result"
    }
   ],
   "source": [
    "result.pvalue < 0.05"
   ]
  },
  {
   "cell_type": "markdown",
   "id": "254a23c3",
   "metadata": {},
   "source": [
    "Since our pvalue is less than alpha it means the null hypothesis can be rejected and we have a significant result. The result validate the claim that different MPAA rating (G/PG/PG-13/R) have different revenue."
   ]
  },
  {
   "cell_type": "markdown",
   "id": "36244aa9",
   "metadata": {},
   "source": [
    "**Tukey's Pairwise Multiple Comparisons Test**"
   ]
  },
  {
   "cell_type": "code",
   "execution_count": 67,
   "id": "b3d978b9",
   "metadata": {},
   "outputs": [],
   "source": [
    "from statsmodels.stats.multicomp import pairwise_tukeyhsd\n",
    "values = df_clean['revenue']\n",
    "labels = df_clean['certification']"
   ]
  },
  {
   "cell_type": "code",
   "execution_count": 68,
   "id": "3179616b",
   "metadata": {},
   "outputs": [
    {
     "data": {
      "text/html": [
       "<table class=\"simpletable\">\n",
       "<caption>Multiple Comparison of Means - Tukey HSD, FWER=0.05</caption>\n",
       "<tr>\n",
       "  <th>group1</th> <th>group2</th>    <th>meandiff</th>      <th>p-adj</th>      <th>lower</th>           <th>upper</th>     <th>reject</th>\n",
       "</tr>\n",
       "<tr>\n",
       "     <td>G</td>     <td>PG</td>   <td>-11233350.9713</td>  <td>0.9833</td> <td>-90219030.6945</td>   <td>67752328.7519</td>  <td>False</td>\n",
       "</tr>\n",
       "<tr>\n",
       "     <td>G</td>    <td>PG-13</td> <td>-43038917.8091</td>  <td>0.4477</td> <td>-117659580.8557</td>  <td>31581745.2376</td>  <td>False</td>\n",
       "</tr>\n",
       "<tr>\n",
       "     <td>G</td>      <td>R</td>   <td>-126079654.1252</td> <td>0.0001</td> <td>-200441634.9384</td>  <td>-51717673.312</td>  <td>True</td> \n",
       "</tr>\n",
       "<tr>\n",
       "    <td>PG</td>    <td>PG-13</td> <td>-31805566.8378</td>  <td>0.1207</td> <td>-68806824.1804</td>   <td>5195690.5048</td>   <td>False</td>\n",
       "</tr>\n",
       "<tr>\n",
       "    <td>PG</td>      <td>R</td>   <td>-114846303.154</td>    <td>0.0</td>  <td>-151323061.2592</td> <td>-78369545.0487</td>  <td>True</td> \n",
       "</tr>\n",
       "<tr>\n",
       "   <td>PG-13</td>    <td>R</td>   <td>-83040736.3162</td>    <td>0.0</td>  <td>-108732362.0735</td> <td>-57349110.5588</td>  <td>True</td> \n",
       "</tr>\n",
       "</table>"
      ],
      "text/latex": [
       "\\begin{center}\n",
       "\\begin{tabular}{ccccccc}\n",
       "\\toprule\n",
       "\\textbf{group1} & \\textbf{group2} & \\textbf{meandiff} & \\textbf{p-adj} &  \\textbf{lower} & \\textbf{upper} & \\textbf{reject}  \\\\\n",
       "\\midrule\n",
       "       G        &        PG       &   -11233350.9713  &     0.9833     &  -90219030.6945 & 67752328.7519  &      False       \\\\\n",
       "       G        &      PG-13      &   -43038917.8091  &     0.4477     & -117659580.8557 & 31581745.2376  &      False       \\\\\n",
       "       G        &        R        &  -126079654.1252  &     0.0001     & -200441634.9384 & -51717673.312  &       True       \\\\\n",
       "       PG       &      PG-13      &   -31805566.8378  &     0.1207     &  -68806824.1804 &  5195690.5048  &      False       \\\\\n",
       "       PG       &        R        &   -114846303.154  &      0.0       & -151323061.2592 & -78369545.0487 &       True       \\\\\n",
       "     PG-13      &        R        &   -83040736.3162  &      0.0       & -108732362.0735 & -57349110.5588 &       True       \\\\\n",
       "\\bottomrule\n",
       "\\end{tabular}\n",
       "%\\caption{Multiple Comparison of Means - Tukey HSD, FWER=0.05}\n",
       "\\end{center}"
      ],
      "text/plain": [
       "<class 'statsmodels.iolib.table.SimpleTable'>"
      ]
     },
     "execution_count": 68,
     "metadata": {},
     "output_type": "execute_result"
    }
   ],
   "source": [
    "## perform tukey's multiple comparison test and display the summary\n",
    "tukeys_results = pairwise_tukeyhsd(values,labels)\n",
    "tukeys_results.summary()"
   ]
  },
  {
   "cell_type": "markdown",
   "id": "0313b91a",
   "metadata": {},
   "source": [
    "The summary shows that we only have significant result for G & R, PG & R and PG-13 & R. The other comparisons didnt give us a significant result and equally indicate that the null hypothesis shouldn't be rejected as there are no statistical difference."
   ]
  },
  {
   "cell_type": "code",
   "execution_count": 73,
   "id": "e2a66283",
   "metadata": {},
   "outputs": [
    {
     "data": {
      "text/plain": [
       "certification\n",
       "G        1.798502e+08\n",
       "PG       1.686168e+08\n",
       "PG-13    1.368113e+08\n",
       "R        5.377054e+07\n",
       "Name: revenue, dtype: float64"
      ]
     },
     "execution_count": 73,
     "metadata": {},
     "output_type": "execute_result"
    }
   ],
   "source": [
    "df_clean.groupby('certification')['revenue'].mean().sort_values(ascending= False).index"
   ]
  },
  {
   "cell_type": "code",
   "execution_count": 127,
   "id": "28f9f65d",
   "metadata": {},
   "outputs": [
    {
     "data": {
      "image/png": "[encoded data removed]",
      "text/plain": [
       "<Figure size 640x480 with 1 Axes>"
      ]
     },
     "metadata": {},
     "output_type": "display_data"
    }
   ],
   "source": [
    "# visual\n",
    "plot_color = sns.color_palette()[0]\n",
    "plot_order = df_clean.groupby('certification')['revenue'].mean().sort_values(ascending= False).index\n",
    "sns.barplot(data= df_clean, x= 'certification', y= 'revenue', color= plot_color, order= plot_order)\n",
    "plt.xlabel('MPAA rating')\n",
    "plt.title('Revenue generated by each movie rating'.title());"
   ]
  },
  {
   "cell_type": "markdown",
   "id": "7dd5e419",
   "metadata": {},
   "source": [
    "The visual reveals that movies with G rating earns the highest revenue"
   ]
  },
  {
   "cell_type": "markdown",
   "id": "9f01bdfc",
   "metadata": {},
   "source": [
    "### Q2: Do movies that are over 2.5 hours long earn more revenue than movies that are 1.5 hours long (or less)?"
   ]
  },
  {
   "cell_type": "markdown",
   "id": "416ce4aa",
   "metadata": {},
   "source": [
    "Hypothesis:\n",
    "\n",
    "+ Null Hypothesis: There are no significant difference in revenue for different movie duration or runtime\n",
    "+ Alternate Hypothesis: There is a significant difference in revenue for different movie duration or runtime\n",
    "+ Significance Level (Alpha): For this test, our alpha value is 0.05\n",
    "+ Test Used : Tee-Test"
   ]
  },
  {
   "cell_type": "code",
   "execution_count": 85,
   "id": "0f0dfb65",
   "metadata": {},
   "outputs": [],
   "source": [
    "# Filtering out movies with runtime over 150min(2.5 hours) and those with  90min(1.5 hours) long or less\n",
    "long_duration_df = df_clean[df_clean.runtime >= 150]\n",
    "shorter_duration_df = df_clean[df_clean.runtime <= 90]"
   ]
  },
  {
   "cell_type": "code",
   "execution_count": 93,
   "id": "10576be6",
   "metadata": {},
   "outputs": [],
   "source": [
    "# Define feature of interest\n",
    "long_duration_revenue = long_duration_df['revenue']\n",
    "shorter_duration_revenue = shorter_duration_df['revenue']"
   ]
  },
  {
   "cell_type": "markdown",
   "id": "22b4d464",
   "metadata": {},
   "source": [
    "###  Check for and remove outliers"
   ]
  },
  {
   "cell_type": "code",
   "execution_count": 88,
   "id": "963f73e8",
   "metadata": {},
   "outputs": [
    {
     "data": {
      "text/plain": [
       "0"
      ]
     },
     "execution_count": 88,
     "metadata": {},
     "output_type": "execute_result"
    }
   ],
   "source": [
    "# Check for outliers in revenue for long_duration movies\n",
    "zscores= stats.zscore(long_duration_revenue)\n",
    "outliers = abs(zscores)>3\n",
    "np.sum(outliers)"
   ]
  },
  {
   "cell_type": "code",
   "execution_count": 112,
   "id": "0d24068c",
   "metadata": {},
   "outputs": [
    {
     "data": {
      "text/plain": [
       "0"
      ]
     },
     "execution_count": 112,
     "metadata": {},
     "output_type": "execute_result"
    }
   ],
   "source": [
    "# Check for outliers in revenue for short duration movies\n",
    "zscores= stats.zscore(shorter_duration_revenue)\n",
    "outliers = abs(zscores)>3\n",
    "np.sum(outliers)"
   ]
  },
  {
   "cell_type": "code",
   "execution_count": 113,
   "id": "b4908622",
   "metadata": {},
   "outputs": [],
   "source": [
    "# remove outliers for nonsmokers group\n",
    "shorter_duration_revenue = shorter_duration_revenue[(abs(stats.zscore(shorter_duration_revenue)) < 3)]"
   ]
  },
  {
   "cell_type": "markdown",
   "id": "c739c37b",
   "metadata": {},
   "source": [
    "### Normality Test"
   ]
  },
  {
   "cell_type": "code",
   "execution_count": 114,
   "id": "3d38230b",
   "metadata": {},
   "outputs": [
    {
     "data": {
      "text/plain": [
       "NormaltestResult(statistic=8.62715804905673, pvalue=0.013385556526158695)"
      ]
     },
     "execution_count": 114,
     "metadata": {},
     "output_type": "execute_result"
    }
   ],
   "source": [
    "# test the long duration group for normality\n",
    "result_long_duration_revenue = stats.normaltest(long_duration_revenue)\n",
    "result_long_duration_revenue"
   ]
  },
  {
   "cell_type": "code",
   "execution_count": 116,
   "id": "edbeef3b",
   "metadata": {},
   "outputs": [
    {
     "data": {
      "text/plain": [
       "False"
      ]
     },
     "execution_count": 116,
     "metadata": {},
     "output_type": "execute_result"
    }
   ],
   "source": [
    "result_long_duration_revenue.pvalue > 0.05"
   ]
  },
  {
   "cell_type": "code",
   "execution_count": 118,
   "id": "6b26f2cc",
   "metadata": {},
   "outputs": [
    {
     "data": {
      "text/plain": [
       "NormaltestResult(statistic=37.58087934234341, pvalue=6.909008679561399e-09)"
      ]
     },
     "execution_count": 118,
     "metadata": {},
     "output_type": "execute_result"
    }
   ],
   "source": [
    "# test the short duration group for normality\n",
    "result_short_duration_revenue = stats.normaltest(shorter_duration_revenue)\n",
    "result_short_duration_revenue"
   ]
  },
  {
   "cell_type": "code",
   "execution_count": 119,
   "id": "45cada8f",
   "metadata": {},
   "outputs": [
    {
     "data": {
      "text/plain": [
       "False"
      ]
     },
     "execution_count": 119,
     "metadata": {},
     "output_type": "execute_result"
    }
   ],
   "source": [
    "result_short_duration_revenue.pvalue > 0.05"
   ]
  },
  {
   "cell_type": "markdown",
   "id": "308913e7",
   "metadata": {},
   "source": [
    "Our p-values for both groups are well below 0.05 which means our data is NOT normally distributed. However, our our sample size is large enough to proceed without satisfying this test. For an independent t test, sample sizes of 15 per group are considered sufficient."
   ]
  },
  {
   "cell_type": "markdown",
   "id": "221caa2b",
   "metadata": {},
   "source": [
    "### Check for Equal Variance"
   ]
  },
  {
   "cell_type": "code",
   "execution_count": 123,
   "id": "e92b4290",
   "metadata": {},
   "outputs": [
    {
     "data": {
      "text/plain": [
       "LeveneResult(statistic=88.43365313963427, pvalue=9.412375747940261e-18)"
      ]
     },
     "execution_count": 123,
     "metadata": {},
     "output_type": "execute_result"
    }
   ],
   "source": [
    "# Test for equal variance\n",
    "result = stats.levene(long_duration_revenue, shorter_duration_revenue)\n",
    "result"
   ]
  },
  {
   "cell_type": "code",
   "execution_count": 124,
   "id": "788f7a8e",
   "metadata": {},
   "outputs": [
    {
     "data": {
      "text/plain": [
       "True"
      ]
     },
     "execution_count": 124,
     "metadata": {},
     "output_type": "execute_result"
    }
   ],
   "source": [
    "result.pvalue < 0.05"
   ]
  },
  {
   "cell_type": "markdown",
   "id": "4e4b6d7e",
   "metadata": {},
   "source": [
    "We don't have equal variances. Since pvalue is less than alpha we reject the Null hypothesis which states that the variance for both groups are equal and make equal_var = False when performing t-test"
   ]
  },
  {
   "cell_type": "code",
   "execution_count": 125,
   "id": "2234961f",
   "metadata": {},
   "outputs": [
    {
     "data": {
      "text/plain": [
       "Ttest_indResult(statistic=4.052020518633995, pvalue=0.00023239843499194216)"
      ]
     },
     "execution_count": 125,
     "metadata": {},
     "output_type": "execute_result"
    }
   ],
   "source": [
    "# Independent t-test with equal_var set to False\n",
    "result = stats.ttest_ind(long_duration_revenue, shorter_duration_revenue, equal_var = False)\n",
    "result"
   ]
  },
  {
   "cell_type": "code",
   "execution_count": 126,
   "id": "52bc7e4c",
   "metadata": {},
   "outputs": [
    {
     "data": {
      "text/plain": [
       "True"
      ]
     },
     "execution_count": 126,
     "metadata": {},
     "output_type": "execute_result"
    }
   ],
   "source": [
    "result.pvalue < 0.05"
   ]
  },
  {
   "cell_type": "markdown",
   "id": "51813ace",
   "metadata": {},
   "source": [
    "Our p value < alpha (0.05), so we reject the null hypothesis and accept that there is a significant difference in revenue generated for longer movie duration and shorter movie duration"
   ]
  },
  {
   "cell_type": "code",
   "execution_count": 129,
   "id": "16eeb543",
   "metadata": {},
   "outputs": [],
   "source": [
    "new_df = df_clean.copy()"
   ]
  },
  {
   "cell_type": "code",
   "execution_count": 131,
   "id": "89f303fb",
   "metadata": {},
   "outputs": [],
   "source": [
    "# create a discount status\n",
    "new_df['duration_status'] = pd.cut(x= new_df['runtime'],\n",
    "                                   bins= [0, 90, np.max(new_df['runtime'])], \n",
    "                                   labels= ['Short Duration', 'Long Duration'])"
   ]
  },
  {
   "cell_type": "code",
   "execution_count": 133,
   "id": "493aea68",
   "metadata": {},
   "outputs": [
    {
     "data": {
      "image/png": "[encoded data removed]",
      "text/plain": [
       "<Figure size 640x480 with 1 Axes>"
      ]
     },
     "metadata": {},
     "output_type": "display_data"
    }
   ],
   "source": [
    "# let's visualize the revenue by duration status\n",
    "ax = sns.barplot(data=new_df, x='duration_status', y='revenue', color= plot_color)\n",
    "ax.set_title('Revenue generated by duration status'.title());"
   ]
  },
  {
   "cell_type": "markdown",
   "id": "1c59a69d",
   "metadata": {},
   "source": [
    "Visual reveals that longer duration movie generate more revnue than shorter duration movies"
   ]
  },
  {
   "cell_type": "code",
   "execution_count": null,
   "id": "0a616ab7",
   "metadata": {},
   "outputs": [],
   "source": []
  },
  {
   "cell_type": "code",
   "execution_count": null,
   "id": "a3a35023",
   "metadata": {},
   "outputs": [],
   "source": []
  },
  {
   "cell_type": "code",
   "execution_count": null,
   "id": "f2fbd0da",
   "metadata": {},
   "outputs": [],
   "source": []
  }
 ],
 "metadata": {
  "kernelspec": {
   "display_name": "Python 3 (ipykernel)",
   "language": "python",
   "name": "python3"
  },
  "language_info": {
   "codemirror_mode": {
    "name": "ipython",
    "version": 3
   },
   "file_extension": ".py",
   "mimetype": "text/x-python",
   "name": "python",
   "nbconvert_exporter": "python",
   "pygments_lexer": "ipython3",
   "version": "3.10.9"
  }
 },
 "nbformat": 4,
 "nbformat_minor": 5
}
